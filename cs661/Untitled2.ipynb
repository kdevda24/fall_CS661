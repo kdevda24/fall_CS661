{
 "cells": [
  {
   "cell_type": "code",
   "execution_count": 1,
   "id": "f9d49980-23df-480a-9c51-bbb454b1f860",
   "metadata": {},
   "outputs": [
    {
     "name": "stdout",
     "output_type": "stream",
     "text": [
      "106.25\n",
      "206.25\n"
     ]
    }
   ],
   "source": [
    "def sales(price, rate):\n",
    "    sales_tax = price + (price*(rate/100))\n",
    "\n",
    "    total = price + sales_tax\n",
    "    return sales_tax, total\n",
    "\n",
    "price = 100\n",
    "rate = 6.25\n",
    "sales_tax, total = sales(price, rate)\n",
    "print(f\"{sales_tax}\")\n",
    "print(f\"{total}\")"
   ]
  },
  {
   "cell_type": "code",
   "execution_count": null,
   "id": "7d56eee2-a7e1-40d4-b89c-49fad127741b",
   "metadata": {},
   "outputs": [],
   "source": ""
  },
  {
   "metadata": {},
   "cell_type": "code",
   "outputs": [],
   "execution_count": null,
   "source": "",
   "id": "c0573eb75dae4b04"
  },
  {
   "metadata": {},
   "cell_type": "markdown",
   "source": "",
   "id": "b39a3df0893c6ae5"
  }
 ],
 "metadata": {
  "kernelspec": {
   "display_name": "Python 3 (ipykernel)",
   "language": "python",
   "name": "python3"
  },
  "language_info": {
   "codemirror_mode": {
    "name": "ipython",
    "version": 3
   },
   "file_extension": ".py",
   "mimetype": "text/x-python",
   "name": "python",
   "nbconvert_exporter": "python",
   "pygments_lexer": "ipython3",
   "version": "3.12.4"
  }
 },
 "nbformat": 4,
 "nbformat_minor": 5
}
