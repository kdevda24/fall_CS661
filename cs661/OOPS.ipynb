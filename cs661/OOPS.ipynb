{
 "cells": [
  {
   "cell_type": "code",
   "id": "initial_id",
   "metadata": {
    "collapsed": true,
    "ExecuteTime": {
     "end_time": "2024-10-05T17:55:49.113430Z",
     "start_time": "2024-10-05T17:55:49.099547Z"
    }
   },
   "source": [
    "from lib2to3.fixes.fix_input import context\n",
    "\n",
    "tuple1 = (9)"
   ],
   "outputs": [],
   "execution_count": 1
  },
  {
   "metadata": {
    "ExecuteTime": {
     "end_time": "2024-10-05T17:55:54.565730Z",
     "start_time": "2024-10-05T17:55:54.551427Z"
    }
   },
   "cell_type": "code",
   "source": "type(tuple1)",
   "id": "27047d5cebd111cf",
   "outputs": [
    {
     "data": {
      "text/plain": [
       "int"
      ]
     },
     "execution_count": 2,
     "metadata": {},
     "output_type": "execute_result"
    }
   ],
   "execution_count": 2
  },
  {
   "metadata": {
    "ExecuteTime": {
     "end_time": "2024-10-05T18:18:41.454690Z",
     "start_time": "2024-10-05T18:18:41.440572Z"
    }
   },
   "cell_type": "code",
   "source": [
    "class Class661:\n",
    "    org = \"Pace\"\n",
    "    def __init__(self,  a = 1, b = 7):\n",
    "        self.a = a\n",
    "        self.b = b\n",
    "    \n",
    "    def add_num(self):\n",
    "        return self.a + self.b\n",
    "    def sub_num(self):\n",
    "        return self.a - self.b\n",
    "    def power_num(self):\n",
    "        return self.a ** c"
   ],
   "id": "b09f2a9563761b1a",
   "outputs": [],
   "execution_count": 33
  },
  {
   "metadata": {
    "ExecuteTime": {
     "end_time": "2024-10-05T18:08:06.379590Z",
     "start_time": "2024-10-05T18:08:06.372313Z"
    }
   },
   "cell_type": "code",
   "source": "test1 = Class661()",
   "id": "9875795af780f0c1",
   "outputs": [],
   "execution_count": 16
  },
  {
   "metadata": {
    "ExecuteTime": {
     "end_time": "2024-10-05T18:08:18.472078Z",
     "start_time": "2024-10-05T18:08:18.462467Z"
    }
   },
   "cell_type": "code",
   "source": "test1.a",
   "id": "f29e8a004934f6b",
   "outputs": [
    {
     "data": {
      "text/plain": [
       "1"
      ]
     },
     "execution_count": 17,
     "metadata": {},
     "output_type": "execute_result"
    }
   ],
   "execution_count": 17
  },
  {
   "metadata": {
    "ExecuteTime": {
     "end_time": "2024-10-05T18:18:25.593101Z",
     "start_time": "2024-10-05T18:18:25.587038Z"
    }
   },
   "cell_type": "code",
   "source": "test2 = Class661()",
   "id": "ad73d57335b0230e",
   "outputs": [],
   "execution_count": 31
  },
  {
   "metadata": {
    "ExecuteTime": {
     "end_time": "2024-10-05T18:08:32.435509Z",
     "start_time": "2024-10-05T18:08:32.424Z"
    }
   },
   "cell_type": "code",
   "source": "test2.b",
   "id": "f488fc735433fa60",
   "outputs": [
    {
     "data": {
      "text/plain": [
       "'ab'"
      ]
     },
     "execution_count": 19,
     "metadata": {},
     "output_type": "execute_result"
    }
   ],
   "execution_count": 19
  },
  {
   "metadata": {
    "ExecuteTime": {
     "end_time": "2024-10-05T18:09:06.964054Z",
     "start_time": "2024-10-05T18:09:06.951837Z"
    }
   },
   "cell_type": "code",
   "source": "type(test2)",
   "id": "9d3ab45d8ec8f547",
   "outputs": [
    {
     "data": {
      "text/plain": [
       "__main__.Class661"
      ]
     },
     "execution_count": 20,
     "metadata": {},
     "output_type": "execute_result"
    }
   ],
   "execution_count": 20
  },
  {
   "metadata": {
    "ExecuteTime": {
     "end_time": "2024-10-05T18:18:28.547623Z",
     "start_time": "2024-10-05T18:18:28.518131Z"
    }
   },
   "cell_type": "code",
   "source": "test2.add_num(2)",
   "id": "3092c2237b089986",
   "outputs": [
    {
     "ename": "TypeError",
     "evalue": "Class661.add_num() takes 1 positional argument but 2 were given",
     "output_type": "error",
     "traceback": [
      "\u001B[1;31m---------------------------------------------------------------------------\u001B[0m",
      "\u001B[1;31mTypeError\u001B[0m                                 Traceback (most recent call last)",
      "Cell \u001B[1;32mIn[32], line 1\u001B[0m\n\u001B[1;32m----> 1\u001B[0m \u001B[43mtest2\u001B[49m\u001B[38;5;241;43m.\u001B[39;49m\u001B[43madd_num\u001B[49m\u001B[43m(\u001B[49m\u001B[38;5;241;43m2\u001B[39;49m\u001B[43m)\u001B[49m\n",
      "\u001B[1;31mTypeError\u001B[0m: Class661.add_num() takes 1 positional argument but 2 were given"
     ]
    }
   ],
   "execution_count": 32
  },
  {
   "metadata": {
    "ExecuteTime": {
     "end_time": "2024-10-05T18:35:36.634587Z",
     "start_time": "2024-10-05T18:35:36.624542Z"
    }
   },
   "cell_type": "code",
   "source": [
    "class MyClass:\n",
    "    global_atr = \"This is my global attribute\"\n",
    "    \n",
    "    def __init__(self, name=\"Alan\", age=30):\n",
    "        self.name = name\n",
    "        self.age = age\n",
    "        \n",
    "        self.__private_atr = \"Private\"\n",
    "        \n",
    "        \n",
    "    def public_method(self):\n",
    "        return f\"Public method is called, Public attributes: {self.name}, Age: {self.age}\"\n",
    "    \n",
    "    def private_method(self):\n",
    "        return self.__private_atr\n",
    "        \n",
    "        \n",
    "        "
   ],
   "id": "ce0382d042cd7d66",
   "outputs": [],
   "execution_count": 35
  },
  {
   "metadata": {
    "ExecuteTime": {
     "end_time": "2024-10-05T18:35:43.383019Z",
     "start_time": "2024-10-05T18:35:43.378028Z"
    }
   },
   "cell_type": "code",
   "source": "classes = MyClass() ",
   "id": "acd1c818fe9125cc",
   "outputs": [],
   "execution_count": 36
  },
  {
   "metadata": {
    "ExecuteTime": {
     "end_time": "2024-10-05T18:36:02.577655Z",
     "start_time": "2024-10-05T18:36:02.566026Z"
    }
   },
   "cell_type": "code",
   "source": "classes.global_atr",
   "id": "d985332129013147",
   "outputs": [
    {
     "data": {
      "text/plain": [
       "'This is my global attribute'"
      ]
     },
     "execution_count": 37,
     "metadata": {},
     "output_type": "execute_result"
    }
   ],
   "execution_count": 37
  },
  {
   "metadata": {
    "ExecuteTime": {
     "end_time": "2024-10-05T18:36:14.867168Z",
     "start_time": "2024-10-05T18:36:14.855570Z"
    }
   },
   "cell_type": "code",
   "source": "classes.name",
   "id": "fee1651abbb1dffc",
   "outputs": [
    {
     "data": {
      "text/plain": [
       "'Alan'"
      ]
     },
     "execution_count": 38,
     "metadata": {},
     "output_type": "execute_result"
    }
   ],
   "execution_count": 38
  },
  {
   "metadata": {
    "ExecuteTime": {
     "end_time": "2024-10-19T18:26:44.575445Z",
     "start_time": "2024-10-19T18:26:44.566273Z"
    }
   },
   "cell_type": "code",
   "source": "open('sales_tax.ipynb', 'w')",
   "id": "6a6f4a60a30f9e04",
   "outputs": [
    {
     "data": {
      "text/plain": [
       "<_io.TextIOWrapper name='sales_tax.ipynb' mode='w' encoding='cp1252'>"
      ]
     },
     "execution_count": 10,
     "metadata": {},
     "output_type": "execute_result"
    }
   ],
   "execution_count": 10
  },
  {
   "metadata": {
    "ExecuteTime": {
     "end_time": "2024-10-19T18:26:47.404521Z",
     "start_time": "2024-10-19T18:26:47.397258Z"
    }
   },
   "cell_type": "code",
   "source": "f1 = open('sales_tax.ipynb', 'rb')",
   "id": "51ba193285fc96e7",
   "outputs": [],
   "execution_count": 11
  },
  {
   "metadata": {
    "ExecuteTime": {
     "end_time": "2024-10-19T18:27:25.737793Z",
     "start_time": "2024-10-19T18:27:25.723911Z"
    }
   },
   "cell_type": "code",
   "source": "f1.read()",
   "id": "a7885e99646acf40",
   "outputs": [
    {
     "data": {
      "text/plain": [
       "b''"
      ]
     },
     "execution_count": 13,
     "metadata": {},
     "output_type": "execute_result"
    }
   ],
   "execution_count": 13
  },
  {
   "metadata": {
    "ExecuteTime": {
     "end_time": "2024-10-19T18:25:35.846Z",
     "start_time": "2024-10-19T18:25:35.838273Z"
    }
   },
   "cell_type": "code",
   "source": "f1.close()",
   "id": "22d6d61f259abbd8",
   "outputs": [],
   "execution_count": 6
  },
  {
   "metadata": {
    "ExecuteTime": {
     "end_time": "2024-10-19T18:27:28.746604Z",
     "start_time": "2024-10-19T18:27:28.733368Z"
    }
   },
   "cell_type": "code",
   "source": "f1.read()",
   "id": "4b7a3f4e446088ff",
   "outputs": [
    {
     "data": {
      "text/plain": [
       "b''"
      ]
     },
     "execution_count": 14,
     "metadata": {},
     "output_type": "execute_result"
    }
   ],
   "execution_count": 14
  },
  {
   "metadata": {
    "ExecuteTime": {
     "end_time": "2024-10-19T18:35:01.070320Z",
     "start_time": "2024-10-19T18:35:01.061444Z"
    }
   },
   "cell_type": "code",
   "source": "f2 = open('ss.txt', 'w')",
   "id": "56f51eccfc7f948f",
   "outputs": [],
   "execution_count": 15
  },
  {
   "metadata": {
    "ExecuteTime": {
     "end_time": "2024-10-19T18:35:53.502408Z",
     "start_time": "2024-10-19T18:35:53.489780Z"
    }
   },
   "cell_type": "code",
   "source": "f2.write(\"\\nThis has old and new \")",
   "id": "c26535e2f9e98185",
   "outputs": [
    {
     "data": {
      "text/plain": [
       "22"
      ]
     },
     "execution_count": 16,
     "metadata": {},
     "output_type": "execute_result"
    }
   ],
   "execution_count": 16
  },
  {
   "metadata": {
    "ExecuteTime": {
     "end_time": "2024-10-19T18:39:09.358163Z",
     "start_time": "2024-10-19T18:39:09.350627Z"
    }
   },
   "cell_type": "code",
   "source": "import os",
   "id": "bdcd80538020edd4",
   "outputs": [],
   "execution_count": 17
  },
  {
   "metadata": {
    "ExecuteTime": {
     "end_time": "2024-10-19T18:40:10.046523Z",
     "start_time": "2024-10-19T18:40:10.034967Z"
    }
   },
   "cell_type": "code",
   "source": "os.getcwd()",
   "id": "a9c900f1020ccce8",
   "outputs": [
    {
     "data": {
      "text/plain": [
       "'C:\\\\Users\\\\Lenovo\\\\PycharmProjects\\\\fall_CS661\\\\cs661'"
      ]
     },
     "execution_count": 18,
     "metadata": {},
     "output_type": "execute_result"
    }
   ],
   "execution_count": 18
  },
  {
   "metadata": {
    "ExecuteTime": {
     "end_time": "2024-10-19T18:44:22.412242Z",
     "start_time": "2024-10-19T18:44:22.400211Z"
    }
   },
   "cell_type": "code",
   "source": [
    "if os.path.exists(\"sss.txt\"):\n",
    "    with open('sales_tax.ipynb', 'r') as f2:\n",
    "        content = f2.read()\n",
    "        print(content)\n",
    "  \n",
    "else:\n",
    "    print(\"file does not exist\")"
   ],
   "id": "2f6b205e7cae487e",
   "outputs": [
    {
     "name": "stdout",
     "output_type": "stream",
     "text": [
      "file does not exist\n"
     ]
    }
   ],
   "execution_count": 20
  },
  {
   "metadata": {
    "ExecuteTime": {
     "end_time": "2024-10-19T18:47:02.452180Z",
     "start_time": "2024-10-19T18:47:02.442040Z"
    }
   },
   "cell_type": "code",
   "source": "os.mkdir('test_fol')",
   "id": "47d1d6e0b45d5fba",
   "outputs": [],
   "execution_count": 21
  },
  {
   "metadata": {
    "ExecuteTime": {
     "end_time": "2024-10-19T19:14:39.604321Z",
     "start_time": "2024-10-19T19:14:39.593295Z"
    }
   },
   "cell_type": "code",
   "source": "import pickle",
   "id": "d269c4e2428bb99",
   "outputs": [],
   "execution_count": 37
  },
  {
   "metadata": {
    "ExecuteTime": {
     "end_time": "2024-10-19T19:14:40.880576Z",
     "start_time": "2024-10-19T19:14:40.868036Z"
    }
   },
   "cell_type": "code",
   "source": [
    "# with open('ss.txt', 'a') as file:\n",
    "#     file.write(\"\\nThis is the new text added to ss.txt.\")"
   ],
   "id": "9b6714437c841782",
   "outputs": [],
   "execution_count": 38
  },
  {
   "metadata": {
    "ExecuteTime": {
     "end_time": "2024-10-19T19:14:42.551459Z",
     "start_time": "2024-10-19T19:14:42.440447Z"
    }
   },
   "cell_type": "code",
   "source": [
    "data = open('ss.txt', 'r')\n",
    "split_words = data.read()\n",
    "words = split_words.split()"
   ],
   "id": "fb2768e74192e42e",
   "outputs": [
    {
     "ename": "UnicodeDecodeError",
     "evalue": "'charmap' codec can't decode byte 0x9d in position 33: character maps to <undefined>",
     "output_type": "error",
     "traceback": [
      "\u001B[1;31m---------------------------------------------------------------------------\u001B[0m",
      "\u001B[1;31mUnicodeDecodeError\u001B[0m                        Traceback (most recent call last)",
      "Cell \u001B[1;32mIn[39], line 2\u001B[0m\n\u001B[0;32m      1\u001B[0m data \u001B[38;5;241m=\u001B[39m \u001B[38;5;28mopen\u001B[39m(\u001B[38;5;124m'\u001B[39m\u001B[38;5;124mss.txt\u001B[39m\u001B[38;5;124m'\u001B[39m, \u001B[38;5;124m'\u001B[39m\u001B[38;5;124mr\u001B[39m\u001B[38;5;124m'\u001B[39m)\n\u001B[1;32m----> 2\u001B[0m split_words \u001B[38;5;241m=\u001B[39m \u001B[43mdata\u001B[49m\u001B[38;5;241;43m.\u001B[39;49m\u001B[43mread\u001B[49m\u001B[43m(\u001B[49m\u001B[43m)\u001B[49m\n\u001B[0;32m      3\u001B[0m words \u001B[38;5;241m=\u001B[39m split_words\u001B[38;5;241m.\u001B[39msplit()\n",
      "File \u001B[1;32m~\\.conda\\envs\\fall_CS661\\Lib\\encodings\\cp1252.py:23\u001B[0m, in \u001B[0;36mIncrementalDecoder.decode\u001B[1;34m(self, input, final)\u001B[0m\n\u001B[0;32m     22\u001B[0m \u001B[38;5;28;01mdef\u001B[39;00m \u001B[38;5;21mdecode\u001B[39m(\u001B[38;5;28mself\u001B[39m, \u001B[38;5;28minput\u001B[39m, final\u001B[38;5;241m=\u001B[39m\u001B[38;5;28;01mFalse\u001B[39;00m):\n\u001B[1;32m---> 23\u001B[0m     \u001B[38;5;28;01mreturn\u001B[39;00m codecs\u001B[38;5;241m.\u001B[39mcharmap_decode(\u001B[38;5;28minput\u001B[39m,\u001B[38;5;28mself\u001B[39m\u001B[38;5;241m.\u001B[39merrors,decoding_table)[\u001B[38;5;241m0\u001B[39m]\n",
      "\u001B[1;31mUnicodeDecodeError\u001B[0m: 'charmap' codec can't decode byte 0x9d in position 33: character maps to <undefined>"
     ]
    }
   ],
   "execution_count": 39
  },
  {
   "metadata": {
    "ExecuteTime": {
     "end_time": "2024-10-19T19:09:34.331015Z",
     "start_time": "2024-10-19T19:09:34.319577Z"
    }
   },
   "cell_type": "code",
   "source": "pickle.dump(words, open('words.pkl', 'wb'))",
   "id": "af76f95bc0af7819",
   "outputs": [],
   "execution_count": 32
  },
  {
   "metadata": {
    "ExecuteTime": {
     "end_time": "2024-10-19T19:09:41.403534Z",
     "start_time": "2024-10-19T19:09:41.397467Z"
    }
   },
   "cell_type": "code",
   "source": "pickle_in = open(\"words.pkl\", \"rb\")",
   "id": "4da7d6a07455aba4",
   "outputs": [],
   "execution_count": 33
  },
  {
   "metadata": {
    "ExecuteTime": {
     "end_time": "2024-10-19T19:14:33.639231Z",
     "start_time": "2024-10-19T19:14:33.597153Z"
    }
   },
   "cell_type": "code",
   "source": [
    "extract = pickle.load(pickle_in)\n",
    "print(extract)"
   ],
   "id": "19ddfccf9cab7a7c",
   "outputs": [
    {
     "ename": "EOFError",
     "evalue": "Ran out of input",
     "output_type": "error",
     "traceback": [
      "\u001B[1;31m---------------------------------------------------------------------------\u001B[0m",
      "\u001B[1;31mEOFError\u001B[0m                                  Traceback (most recent call last)",
      "Cell \u001B[1;32mIn[36], line 1\u001B[0m\n\u001B[1;32m----> 1\u001B[0m extract \u001B[38;5;241m=\u001B[39m \u001B[43mpickle\u001B[49m\u001B[38;5;241;43m.\u001B[39;49m\u001B[43mload\u001B[49m\u001B[43m(\u001B[49m\u001B[43mpickle_in\u001B[49m\u001B[43m)\u001B[49m\n\u001B[0;32m      2\u001B[0m \u001B[38;5;28mprint\u001B[39m(extract)\n",
      "\u001B[1;31mEOFError\u001B[0m: Ran out of input"
     ]
    }
   ],
   "execution_count": 36
  },
  {
   "metadata": {},
   "cell_type": "code",
   "outputs": [],
   "execution_count": null,
   "source": "",
   "id": "2b3561d447fa483"
  }
 ],
 "metadata": {
  "kernelspec": {
   "display_name": "Python 3",
   "language": "python",
   "name": "python3"
  },
  "language_info": {
   "codemirror_mode": {
    "name": "ipython",
    "version": 2
   },
   "file_extension": ".py",
   "mimetype": "text/x-python",
   "name": "python",
   "nbconvert_exporter": "python",
   "pygments_lexer": "ipython2",
   "version": "2.7.6"
  }
 },
 "nbformat": 4,
 "nbformat_minor": 5
}
