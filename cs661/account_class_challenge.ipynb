{
 "cells": [
  {
   "cell_type": "code",
   "id": "initial_id",
   "metadata": {
    "collapsed": true,
    "ExecuteTime": {
     "end_time": "2024-10-05T19:03:45.463708Z",
     "start_time": "2024-10-05T19:03:45.454262Z"
    }
   },
   "source": [
    "class account:\n",
    "    def __init__(self, balance):\n",
    "        self.balance = balance\n",
    "        \n",
    "    def withdraw(self, amount):\n",
    "        if amount > self.balance:\n",
    "            print(\"Withdrawal cannot be fulfilled due to insufficient funds.\")\n",
    "            \n",
    "        else:\n",
    "            self.balance -= amount\n",
    "            print(f\"withdrwal successful. New balance is {self.balance}\")\n",
    "            \n",
    "    def get_bal(self):        \n",
    "        return self.balance\n",
    "            \n",
    "            "
   ],
   "outputs": [],
   "execution_count": 13
  },
  {
   "metadata": {
    "ExecuteTime": {
     "end_time": "2024-10-05T19:03:50.252593Z",
     "start_time": "2024-10-05T19:03:50.245913Z"
    }
   },
   "cell_type": "code",
   "source": "account = account(200)",
   "id": "befa437b9a40c357",
   "outputs": [],
   "execution_count": 14
  },
  {
   "metadata": {
    "ExecuteTime": {
     "end_time": "2024-10-05T19:04:00.377597Z",
     "start_time": "2024-10-05T19:04:00.366947Z"
    }
   },
   "cell_type": "code",
   "source": "account.withdraw(100)",
   "id": "7d451504924878f",
   "outputs": [
    {
     "name": "stdout",
     "output_type": "stream",
     "text": [
      "withdrwal successful. New balance is 100\n"
     ]
    }
   ],
   "execution_count": 15
  },
  {
   "metadata": {
    "ExecuteTime": {
     "end_time": "2024-10-05T19:04:15.169951Z",
     "start_time": "2024-10-05T19:04:15.158423Z"
    }
   },
   "cell_type": "code",
   "source": "account.withdraw(200)",
   "id": "7d77ec3b88f7ed1d",
   "outputs": [
    {
     "name": "stdout",
     "output_type": "stream",
     "text": [
      "Withdrawal cannot be fulfilled due to insufficient funds.\n"
     ]
    }
   ],
   "execution_count": 16
  }
 ],
 "metadata": {
  "kernelspec": {
   "display_name": "Python 3",
   "language": "python",
   "name": "python3"
  },
  "language_info": {
   "codemirror_mode": {
    "name": "ipython",
    "version": 2
   },
   "file_extension": ".py",
   "mimetype": "text/x-python",
   "name": "python",
   "nbconvert_exporter": "python",
   "pygments_lexer": "ipython2",
   "version": "2.7.6"
  }
 },
 "nbformat": 4,
 "nbformat_minor": 5
}
